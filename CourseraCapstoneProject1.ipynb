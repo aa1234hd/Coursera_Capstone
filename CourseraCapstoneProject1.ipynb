{
 "cells": [
  {
   "cell_type": "markdown",
   "metadata": {},
   "source": [
    "# Coursera Capstone Project: Environmental Issues In New York City.\n",
    "\n",
    "#### New York City, the largest city in the United States of America, faces a large and growing number of environmental problems ranging from sewage overflows to high air pollution. In this project, I will be comparing the environmental issues of several neighborhoods in New York City while taking into account what the issues are and how they can potentially be resolved by making suggestions using data from other cities and neighborhoods that do not have these environmental problems or do have them but on a much smaller scale. Environmental issues have a negative impact on tourism, business, housing and other industries. When it comes to tourism, people generally want to visit nicer areas that have clean air and a clean, elegent environment. Places that have high toxicity levels along with having a polluted, dirty environment are less likely to attract tourists. A lack of tourism will have negative impacts on businesses. Less people coming to a city will cause hotels, resturaunts, grocery stores and all sorts of businesses to experience a lack of customers and profits. A toxic environment will also have a negative impact on the housing market because less people will move to that area which means less houses will be sold."
   ]
  },
  {
   "cell_type": "markdown",
   "metadata": {},
   "source": [
    "## Now I'm going to import the Python libraries to get started on this project."
   ]
  },
  {
   "cell_type": "code",
   "execution_count": 13,
   "metadata": {},
   "outputs": [],
   "source": [
    "import folium\n",
    "import pandas as pd\n",
    "import numpy as np\n",
    "import requests\n",
    "from geopy.geocoders import Nominatim\n",
    "from IPython.display import Image\n",
    "from IPython.core.display import HTML\n",
    "from pandas.io.json import json_normalize\n",
    "import matplotlib as mpl\n",
    "import matplotlib.pyplot as plt"
   ]
  },
  {
   "cell_type": "code",
   "execution_count": 14,
   "metadata": {},
   "outputs": [],
   "source": [
    "CLIENT_ID = \"GTCDLRWWUQESHC1NTZWBZKCH2OT3UGFIMYTWBGO3XPUPCMHB\" # FourSquare CLIENT ID\n",
    "CLIENT_SECRET = \"4UZ4Z0KDF4TIS0JTH51PUCTBORXP4EJQUN4A5FAAEYLXLOJR\" # Foure square secret\n",
    "VERSION = \"20190620\" # Version\n",
    "LIMIT = 100"
   ]
  },
  {
   "cell_type": "markdown",
   "metadata": {},
   "source": [
    "## Next I will import the air quality dataset from kaggle and create new dataframes along with some visualizations of the data."
   ]
  },
  {
   "cell_type": "code",
   "execution_count": 34,
   "metadata": {},
   "outputs": [
    {
     "data": {
      "text/html": [
       "<div>\n",
       "<style scoped>\n",
       "    .dataframe tbody tr th:only-of-type {\n",
       "        vertical-align: middle;\n",
       "    }\n",
       "\n",
       "    .dataframe tbody tr th {\n",
       "        vertical-align: top;\n",
       "    }\n",
       "\n",
       "    .dataframe thead th {\n",
       "        text-align: right;\n",
       "    }\n",
       "</style>\n",
       "<table border=\"1\" class=\"dataframe\">\n",
       "  <thead>\n",
       "    <tr style=\"text-align: right;\">\n",
       "      <th></th>\n",
       "      <th>indicator_data_id</th>\n",
       "      <th>indicator_id</th>\n",
       "      <th>name</th>\n",
       "      <th>Measure</th>\n",
       "      <th>geo_type_name</th>\n",
       "      <th>geo_entity_id</th>\n",
       "      <th>geo_entity_name</th>\n",
       "      <th>year_description</th>\n",
       "      <th>data_valuemessage</th>\n",
       "    </tr>\n",
       "  </thead>\n",
       "  <tbody>\n",
       "    <tr>\n",
       "      <th>0</th>\n",
       "      <td>130728</td>\n",
       "      <td>646</td>\n",
       "      <td>Air Toxics Concentrations- Average Benzene Con...</td>\n",
       "      <td>Average Concentration</td>\n",
       "      <td>Borough</td>\n",
       "      <td>1</td>\n",
       "      <td>Bronx</td>\n",
       "      <td>2005</td>\n",
       "      <td>2.8</td>\n",
       "    </tr>\n",
       "    <tr>\n",
       "      <th>1</th>\n",
       "      <td>130729</td>\n",
       "      <td>646</td>\n",
       "      <td>Air Toxics Concentrations- Average Benzene Con...</td>\n",
       "      <td>Average Concentration</td>\n",
       "      <td>Borough</td>\n",
       "      <td>2</td>\n",
       "      <td>Brooklyn</td>\n",
       "      <td>2005</td>\n",
       "      <td>2.8</td>\n",
       "    </tr>\n",
       "    <tr>\n",
       "      <th>2</th>\n",
       "      <td>130730</td>\n",
       "      <td>646</td>\n",
       "      <td>Air Toxics Concentrations- Average Benzene Con...</td>\n",
       "      <td>Average Concentration</td>\n",
       "      <td>Borough</td>\n",
       "      <td>3</td>\n",
       "      <td>Manhattan</td>\n",
       "      <td>2005</td>\n",
       "      <td>4.7</td>\n",
       "    </tr>\n",
       "    <tr>\n",
       "      <th>3</th>\n",
       "      <td>130731</td>\n",
       "      <td>646</td>\n",
       "      <td>Air Toxics Concentrations- Average Benzene Con...</td>\n",
       "      <td>Average Concentration</td>\n",
       "      <td>Borough</td>\n",
       "      <td>4</td>\n",
       "      <td>Queens</td>\n",
       "      <td>2005</td>\n",
       "      <td>1.9</td>\n",
       "    </tr>\n",
       "    <tr>\n",
       "      <th>4</th>\n",
       "      <td>130732</td>\n",
       "      <td>646</td>\n",
       "      <td>Air Toxics Concentrations- Average Benzene Con...</td>\n",
       "      <td>Average Concentration</td>\n",
       "      <td>Borough</td>\n",
       "      <td>5</td>\n",
       "      <td>Staten Island</td>\n",
       "      <td>2005</td>\n",
       "      <td>1.6</td>\n",
       "    </tr>\n",
       "  </tbody>\n",
       "</table>\n",
       "</div>"
      ],
      "text/plain": [
       "   indicator_data_id  indicator_id  \\\n",
       "0             130728           646   \n",
       "1             130729           646   \n",
       "2             130730           646   \n",
       "3             130731           646   \n",
       "4             130732           646   \n",
       "\n",
       "                                                name                Measure  \\\n",
       "0  Air Toxics Concentrations- Average Benzene Con...  Average Concentration   \n",
       "1  Air Toxics Concentrations- Average Benzene Con...  Average Concentration   \n",
       "2  Air Toxics Concentrations- Average Benzene Con...  Average Concentration   \n",
       "3  Air Toxics Concentrations- Average Benzene Con...  Average Concentration   \n",
       "4  Air Toxics Concentrations- Average Benzene Con...  Average Concentration   \n",
       "\n",
       "  geo_type_name  geo_entity_id geo_entity_name year_description  \\\n",
       "0       Borough              1           Bronx             2005   \n",
       "1       Borough              2        Brooklyn             2005   \n",
       "2       Borough              3       Manhattan             2005   \n",
       "3       Borough              4          Queens             2005   \n",
       "4       Borough              5   Staten Island             2005   \n",
       "\n",
       "   data_valuemessage  \n",
       "0                2.8  \n",
       "1                2.8  \n",
       "2                4.7  \n",
       "3                1.9  \n",
       "4                1.6  "
      ]
     },
     "execution_count": 34,
     "metadata": {},
     "output_type": "execute_result"
    }
   ],
   "source": [
    "data = pd.read_csv(\"/home/oddfuture/Downloads/air-quality.csv\")\n",
    "data.head()"
   ]
  },
  {
   "cell_type": "markdown",
   "metadata": {},
   "source": [
    "#### Environmental issues are of interest to the government of New York City. The New York City government announced in 2017 that it is planning to cut %80 of carbon dioxide emissions by the year 2050. It has been reported that luxury towers are responsible for nearly %70 of all carbon emissions in the city. A solution to the problem is underway by the city government as they are trying to pass legislation that would require large buildings to significantly cut down on their use of energy. Source: https://grist.org/beacon/the-big-apple-plans-to-take-a-big-bite-out-of-its-co2-emissions/ \n",
    "#### The data analysis methods that I am using are mainly exploratory, I am not using any machine learning methods. I am reviewing data that I am finding from the internet and I am examining .csv files that pertain to this subject."
   ]
  },
  {
   "cell_type": "markdown",
   "metadata": {},
   "source": [
    "#### Car and subway emissions are another major source of air pollution in New York City. Source: https://www.nydailynews.com/new-york/ny-metro-air-quality-subway-mta-20190215-story.html"
   ]
  },
  {
   "cell_type": "markdown",
   "metadata": {},
   "source": [
    "#### A solution to New York City's air pollution problems would be to switch to electric-based cars and trains and require large building to use less electricity. This could possibly eliminate up to 90% of air pollution in the city."
   ]
  },
  {
   "cell_type": "code",
   "execution_count": null,
   "metadata": {},
   "outputs": [],
   "source": []
  }
 ],
 "metadata": {
  "kernelspec": {
   "display_name": "Python 3",
   "language": "python",
   "name": "python3"
  },
  "language_info": {
   "codemirror_mode": {
    "name": "ipython",
    "version": 3
   },
   "file_extension": ".py",
   "mimetype": "text/x-python",
   "name": "python",
   "nbconvert_exporter": "python",
   "pygments_lexer": "ipython3",
   "version": "3.7.3"
  }
 },
 "nbformat": 4,
 "nbformat_minor": 2
}
